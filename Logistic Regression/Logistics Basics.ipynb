{
 "cells": [
  {
   "cell_type": "markdown",
   "metadata": {},
   "source": [
    "# Basic Sigmoid function"
   ]
  },
  {
   "cell_type": "code",
   "execution_count": 7,
   "metadata": {},
   "outputs": [],
   "source": [
    "import numpy as np\n",
    "\n",
    "N = 100\n",
    "D = 2\n",
    "\n",
    "X = np.random.randn(N,D)\n",
    "ones = np.ones((N,1))\n"
   ]
  },
  {
   "cell_type": "code",
   "execution_count": 11,
   "metadata": {},
   "outputs": [],
   "source": [
    "Xb = np.concatenate((ones,X),axis=1)\n"
   ]
  },
  {
   "cell_type": "code",
   "execution_count": 13,
   "metadata": {},
   "outputs": [],
   "source": [
    "w = np.random.randn(D+1)\n",
    "\n",
    "z = Xb.dot(w)"
   ]
  },
  {
   "cell_type": "code",
   "execution_count": 14,
   "metadata": {
    "collapsed": true
   },
   "outputs": [],
   "source": [
    "def sigmoid(z):\n",
    "    return 1/(1 + np.exp(-z))"
   ]
  },
  {
   "cell_type": "code",
   "execution_count": 15,
   "metadata": {},
   "outputs": [
    {
     "name": "stdout",
     "output_type": "stream",
     "text": [
      "[ 0.65345039  0.08616936  0.31059983  0.37581278  0.11824993  0.64864756\n",
      "  0.5677166   0.35423853  0.35103285  0.7497001   0.13717223  0.09460029\n",
      "  0.0405336   0.94010157  0.20404724  0.44881396  0.36538502  0.64201828\n",
      "  0.13235026  0.26170104  0.30142924  0.894072    0.18225714  0.5910525\n",
      "  0.11355632  0.57723455  0.46921443  0.85731598  0.18461829  0.46583858\n",
      "  0.57841353  0.33985453  0.69485907  0.49109197  0.07068494  0.72210335\n",
      "  0.17139664  0.66433838  0.20313938  0.57156365  0.63773007  0.75179131\n",
      "  0.45952506  0.26797783  0.37220763  0.10435392  0.7261385   0.13765603\n",
      "  0.48047166  0.60283458  0.36418532  0.68208313  0.77578219  0.82590955\n",
      "  0.09379545  0.43729029  0.10885653  0.79167773  0.49879743  0.80070414\n",
      "  0.54056523  0.29995357  0.41229239  0.75849769  0.38845313  0.34578846\n",
      "  0.25636464  0.31877935  0.6626099   0.75273254  0.69270683  0.58259346\n",
      "  0.06940835  0.44656494  0.8132663   0.56236566  0.76301935  0.27359261\n",
      "  0.22283346  0.13496808  0.27091688  0.16698812  0.84423404  0.36511279\n",
      "  0.39867395  0.6505272   0.03808862  0.16933223  0.57306327  0.57910665\n",
      "  0.17768024  0.43799444  0.83256649  0.88268043  0.40660979  0.46031911\n",
      "  0.12618636  0.45144377  0.291061    0.04844853]\n"
     ]
    }
   ],
   "source": [
    "print (sigmoid(z))"
   ]
  },
  {
   "cell_type": "markdown",
   "metadata": {},
   "source": [
    "As we can see, the numbers are between 0 and 1."
   ]
  }
 ],
 "metadata": {
  "kernelspec": {
   "display_name": "Python 3",
   "language": "python",
   "name": "python3"
  },
  "language_info": {
   "codemirror_mode": {
    "name": "ipython",
    "version": 3
   },
   "file_extension": ".py",
   "mimetype": "text/x-python",
   "name": "python",
   "nbconvert_exporter": "python",
   "pygments_lexer": "ipython3",
   "version": "3.6.4"
  }
 },
 "nbformat": 4,
 "nbformat_minor": 2
}
